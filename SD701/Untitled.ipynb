{
 "cells": [
  {
   "cell_type": "code",
   "execution_count": null,
   "metadata": {},
   "outputs": [],
   "source": [
    "import org.apache.spark.sql.DataFrame\n",
    "import org.apache.spark.sql.functions.regexp_replace\n",
    "import org.apache.spark.ml.feature.CountVectorizer\n",
    "import org.apache.spark.ml.feature.CountVectorizerModel\n",
    "import org.apache.spark.ml.feature.IDF\n",
    "import org.apache.spark.ml.feature.OneHotEncoderEstimator\n",
    "import org.apache.spark.ml.linalg.Vector\n",
    "import org.apache.spark.ml.feature.RegexTokenizer\n",
    "import org.apache.spark.ml.feature.StopWordsRemover\n",
    "import org.apache.spark.ml.feature.StringIndexer\n",
    "import org.apache.spark.ml.feature.VectorAssembler\n",
    "import org.apache.spark.ml.Pipeline\n",
    "import org.apache.spark.ml.evaluation.RegressionEvaluator\n",
    "import org.apache.spark.ml.regression.LinearRegression\n",
    "\n",
    "import org.apache.spark.ml.regression.{RandomForestRegressionModel, RandomForestRegressor}"
   ]
  },
  {
   "cell_type": "code",
   "execution_count": null,
   "metadata": {},
   "outputs": [],
   "source": [
    "// Import the dataFrame\n",
    "import spark.implicits._\n",
    "val dataset = spark.read.option(\"header\", true)\n",
    ".option(\"multiline\",true).text(\"/home/martinez/git/ms2020bgd/SD701/airbnb/airbnb_paris.csv\")\n",
    "dataset.printSchema()\n",
    "\n",
    "\n",
    "\n",
    "\n",
    "val toSave = dataset.withColumn(\"value\", regexp_replace($\"value\", \"\\\"\\\"\",\"\"))\n",
    "\n",
    "val datasetcsv = spark.read.option(\"header\", true)\n",
    ".option(\"multiline\",true).csv(\"/home/martinez/git/ms2020bgd/SD701/airbnb/airbnb_paris.csv\")\n",
    "\n",
    "datasetcsv.select(\"host_about\").show(false)\n"
   ]
  },
  {
   "cell_type": "code",
   "execution_count": null,
   "metadata": {},
   "outputs": [],
   "source": [
    "toSave.coalesce(1).write.text(\"/home/martinez/git/ms2020bgd/SD701/airbnb/airbnb_paris2.csv\")"
   ]
  },
  {
   "cell_type": "code",
   "execution_count": null,
   "metadata": {},
   "outputs": [],
   "source": [
    "val datasetNew = spark.read.option(\"header\", true)\n",
    ".option(\"multiline\",true).csv(\"/home/martinez/git/ms2020bgd/SD701/airbnb/airbnb_paris2.csv\")"
   ]
  },
  {
   "cell_type": "code",
   "execution_count": null,
   "metadata": {},
   "outputs": [],
   "source": [
    "datasetNew.printSchema()\n",
    "datasetNew.select(\"interaction\").show(false)"
   ]
  },
  {
   "cell_type": "code",
   "execution_count": null,
   "metadata": {},
   "outputs": [],
   "source": [
    "// On recupere les colonnes qui nous interessent\n",
    "\n",
    "val datasetTypes = datasetNew.withColumn(\"accommodates\", $\"accommodates\".cast(\"Int\")).withColumn(\"accommodates\", when($\"accommodates\".isNull, 2).otherwise($\"accommodates\"))\n",
    "                         .withColumn(\"bathrooms\", $\"bathrooms\".cast(\"Int\")).withColumn(\"bathrooms\", when($\"bathrooms\".isNull, 0).otherwise($\"bathrooms\"))\n",
    "                         .withColumn(\"guests_included\", $\"guests_included\".cast(\"Int\")).withColumn(\"guests_included\", when($\"guests_included\".isNull, 0).otherwise($\"guests_included\"))\n",
    "                         .withColumn(\"bedrooms\", $\"bedrooms\".cast(\"Int\")).withColumn(\"bedrooms\", when($\"bedrooms\".isNull, 0).otherwise($\"bedrooms\"))\n",
    "                         .withColumn(\"beds\", $\"beds\".cast(\"Int\")).withColumn(\"beds\", when($\"beds\".isNull, 0).otherwise($\"beds\"))\n",
    "                         .withColumn(\"price\",regexp_replace($\"price\",\"[$]\",\"\")).withColumn(\"price\", $\"price\".cast(\"Double\"))\n",
    "                         .withColumn(\"cleaning_fee\",regexp_replace($\"cleaning_fee\",\"[$]\",\"\")).withColumn(\"cleaning_fee\", $\"cleaning_fee\".cast(\"Double\")).withColumn(\"cleaning_fee\", when($\"cleaning_fee\".isNull, 0).otherwise($\"cleaning_fee\"))\n",
    "                         .withColumn(\"name\", when($\"name\".isNull, \"\").otherwise($\"name\"))\n",
    "                         .withColumn(\"summary\", when($\"summary\".isNull, \"\").otherwise($\"summary\"))\n",
    "                         .withColumn(\"space\", when($\"space\".isNull, \"\").otherwise($\"space\"))\n",
    "                         .withColumn(\"description\", when($\"description\".isNull, \"\").otherwise($\"description\"))\n",
    "                         .withColumn(\"neighborhood_overview\", when($\"neighborhood_overview\".isNull, \"\").otherwise($\"neighborhood_overview\"))\n",
    "                         .withColumn(\"text\", concat_ws(\" \", $\"name\", $\"summary\", $\"space\", $\"description\",$\"neighborhood_overview\"))\n",
    "                         .withColumn(\"amenities\", regexp_replace($\"amenities\",\"[{|}]\",\"\")).withColumn(\"amenities\", split($\"amenities\", \",\"))\n",
    "                         .withColumn(\"room_type\", when($\"room_type\".isNull, \"unknown\").otherwise($\"room_type\"))\n",
    "                         .withColumn(\"property_type\", when($\"property_type\".isNull, \"unknown\").otherwise($\"property_type\"))\n",
    "                         .withColumn(\"neighbourhood\", when($\"neighbourhood\".isNull, \"unknown\").otherwise($\"neighbourhood\"))\n",
    "\n",
    "\n",
    "val subDataSet = datasetTypes.select(\"accommodates\",\"bathrooms\",\"guests_included\",\"bedrooms\",\"beds\",\n",
    "                                     \"price\", \"cleaning_fee\",\"bedrooms\", \"text\", \"property_type\",\"room_type\",\"neighbourhood\", \"review_scores_rating\",\"amenities\")\n",
    "                        .withColumn(\"review_scores_rating\", $\"review_scores_rating\".cast(\"Double\"))\n",
    "                        .filter(!$\"review_scores_rating\".isNull).filter(!$\"price\".isNull)\n",
    "\n",
    "\n",
    "\n",
    "\n"
   ]
  },
  {
   "cell_type": "code",
   "execution_count": null,
   "metadata": {},
   "outputs": [],
   "source": [
    "// Get distinct tags array\n",
    "val amenities = subDataSet\n",
    "  .flatMap(r ⇒ r.getAs[Seq[String]](\"amenities\"))\n",
    "  .distinct()\n",
    "  .collect()\n",
    "  .sortWith(_ < _)\n",
    "\n",
    "val cvmData = new CountVectorizerModel(amenities)\n",
    "  .setInputCol(\"amenities\")\n",
    "  .setOutputCol(\"sparseAmenities\")\n",
    "  .transform(subDataSet)\n",
    "\n",
    "val asDense = udf((v: Vector) ⇒ v.toDense)\n",
    "\n",
    "val dataSetFull = cvmData.withColumn(\"features\", asDense($\"sparseAmenities\"))"
   ]
  },
  {
   "cell_type": "code",
   "execution_count": null,
   "metadata": {},
   "outputs": [],
   "source": [
    "\n",
    "\n",
    "\n",
    "\n",
    "// Let's start the pipeline\n",
    "\n",
    "val indexerRoomType = new StringIndexer().setInputCol(\"room_type\").setOutputCol(\"room_index\").setHandleInvalid(\"skip\")\n",
    "val indexerPropertyType = new StringIndexer().setInputCol(\"property_type\").setOutputCol(\"property_index\").setHandleInvalid(\"skip\")\n",
    "val indexerNeighbourhoudType = new StringIndexer().setInputCol(\"neighbourhood\").setOutputCol(\"neighbourhood_index\").setHandleInvalid(\"skip\")\n",
    "\n",
    "val oneHotEncorderCountry = new OneHotEncoderEstimator().setDropLast(false).setInputCols(Array(indexerRoomType.getOutputCol, indexerPropertyType.getOutputCol, indexerNeighbourhoudType.getOutputCol))\n",
    "    .setOutputCols(Array(\"room_onehot\", \"property_onehot\", \"neighbourhood_onehot\"))\n",
    "\n",
    "\n",
    "val tokenizer = new RegexTokenizer().setPattern(\"\\\\W+\").setGaps(true).setInputCol(\"text\").setOutputCol(\"tokens\")\n",
    "val stopWordRemover = new StopWordsRemover().setInputCol(tokenizer.getOutputCol).setOutputCol(\"filtered\")\n",
    "\n",
    "\n",
    "val countVectorizer = new CountVectorizer().setInputCol(stopWordRemover.getOutputCol).setOutputCol(\"TF\").setMinDF(50)\n",
    "\n",
    "\n",
    "  //    val dataSetHashing = new HashingTF().setInputCol(\"filtered\").setOutputCol(\"features\").transform(dataSetCountVect)\n",
    "  //\n",
    "val IDF = new IDF().setInputCol(countVectorizer.getOutputCol).setOutputCol(\"tfidf\")\n",
    "\n",
    "val vectorAssembler = new VectorAssembler().setInputCols(Array(\n",
    "    \"tfidf\",\n",
    "    \"room_onehot\", \"property_onehot\", \"neighbourhood_onehot\", \"features\",\n",
    "                                                                \"accommodates\",\"bathrooms\",\"guests_included\",\"bedrooms\",\"beds\",\n",
    "                                                                \"price\", \"cleaning_fee\"\n",
    "                                                              )).setOutputCol(\"features_assembled\")\n",
    "\n",
    "val rf = new RandomForestRegressor().setLabelCol(\"review_scores_rating\").setFeaturesCol(\"features_assembled\")\n",
    "\n",
    "val lr = new LinearRegression()\n",
    "   .setLabelCol(\"review_scores_rating\")\n",
    "   .setFitIntercept(true)\n",
    "  .setFeaturesCol(\"features_assembled\")\n",
    ".setRegParam(0.2)\n",
    "  .setMaxIter(100)\n",
    "\n",
    "val pipeline: Pipeline = new Pipeline().setStages(Array(tokenizer, stopWordRemover, countVectorizer, IDF\n",
    "                                                        , indexerRoomType, indexerPropertyType,indexerNeighbourhoudType, oneHotEncorderCountry, vectorAssembler, rf))\n",
    "\n",
    "val Array(training, test) = dataSetFull.randomSplit(Array(0.9, 0.1), 999)\n",
    "\n",
    "val model = pipeline.fit(training)\n",
    "val dfWithSimplePredictions = model.transform(test)\n",
    "\n",
    "val evaluator = new RegressionEvaluator()\n",
    "  .setLabelCol(\"review_scores_rating\")\n",
    "  .setPredictionCol(\"prediction\")\n",
    "  .setMetricName(\"rmse\")\n",
    "\n",
    "val rmse = evaluator.evaluate(dfWithSimplePredictions)\n",
    "println(s\"Root Mean Squared Error (RMSE) on test data = $rmse\")\n",
    "\n",
    "\n"
   ]
  },
  {
   "cell_type": "code",
   "execution_count": null,
   "metadata": {},
   "outputs": [],
   "source": [
    "dfWithSimplePredictions.select(\"tfidf\").show(100, false)"
   ]
  },
  {
   "cell_type": "code",
   "execution_count": null,
   "metadata": {},
   "outputs": [],
   "source": []
  }
 ],
 "metadata": {
  "kernelspec": {
   "display_name": "Python 3",
   "language": "python",
   "name": "python3"
  },
  "language_info": {
   "codemirror_mode": {
    "name": "ipython",
    "version": 3
   },
   "file_extension": ".py",
   "mimetype": "text/x-python",
   "name": "python",
   "nbconvert_exporter": "python",
   "pygments_lexer": "ipython3",
   "version": "3.7.4"
  }
 },
 "nbformat": 4,
 "nbformat_minor": 4
}
